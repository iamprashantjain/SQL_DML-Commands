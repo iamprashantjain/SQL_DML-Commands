{
 "cells": [
  {
   "cell_type": "markdown",
   "id": "4539a114",
   "metadata": {},
   "source": [
    "### DML (Dbs Manipulation Language) commands\n",
    "\n",
    "1. Create - INSERT\n",
    "2. Retrieve - SELECT\n",
    "3. Update - UPDATE\n",
    "4. Delete - DELETE"
   ]
  },
  {
   "cell_type": "markdown",
   "id": "da7220b2",
   "metadata": {},
   "source": [
    "## 1. Create - INSERT"
   ]
  },
  {
   "cell_type": "markdown",
   "id": "bd54646d",
   "metadata": {},
   "source": [
    "### INSERT (to insert rows in an existing table)"
   ]
  },
  {
   "cell_type": "code",
   "execution_count": 4,
   "id": "5e5492db",
   "metadata": {},
   "outputs": [],
   "source": [
    "# In order to insert rows, we'll first create a table\n",
    "# Dbs is called schema"
   ]
  },
  {
   "cell_type": "markdown",
   "id": "f59bbe65",
   "metadata": {},
   "source": [
    "CREATE DATABASE campusx"
   ]
  },
  {
   "cell_type": "code",
   "execution_count": 5,
   "id": "cd50af56",
   "metadata": {},
   "outputs": [],
   "source": [
    "# create a tabke with 4 attributes (userid, name, email, pswd)"
   ]
  },
  {
   "cell_type": "raw",
   "id": "7981cf18",
   "metadata": {},
   "source": [
    "CREATE TABLE users (\n",
    "\tuser_id INT PRIMARY KEY AUTO_INCREMENT,\n",
    "    name VARCHAR(255) NOT NULL,\n",
    "    email VARCHAR(255) NOT NULL UNIQUE,\n",
    "    pswd VARCHAR(255) NOT NULL\n",
    ")"
   ]
  },
  {
   "cell_type": "code",
   "execution_count": 6,
   "id": "c0f95587",
   "metadata": {},
   "outputs": [],
   "source": [
    "# insert data into users table"
   ]
  },
  {
   "cell_type": "raw",
   "id": "784f8e93",
   "metadata": {},
   "source": [
    "INSERT INTO campusx.users(user_id,name,email,pswd)\n",
    "VALUES (NULL,'prashant','p@p.com','1234')"
   ]
  },
  {
   "cell_type": "raw",
   "id": "986bcc52",
   "metadata": {},
   "source": [
    "INSERT INTO campusx.users\n",
    "VALUES (NULL,'meenakshi','m@m.com','4321')"
   ]
  },
  {
   "cell_type": "markdown",
   "id": "faac40c8",
   "metadata": {},
   "source": [
    "### insert into specific cols "
   ]
  },
  {
   "cell_type": "raw",
   "id": "2e401df6",
   "metadata": {},
   "source": [
    "INSERT INTO campusx.users (name,email)\n",
    "VALUES ('usha','u@u.com')"
   ]
  },
  {
   "cell_type": "raw",
   "id": "2100723d",
   "metadata": {},
   "source": [
    "INSERT INTO campusx.users (name,pswd)\n",
    "VALUES ('ashok',1234)"
   ]
  },
  {
   "cell_type": "markdown",
   "id": "6e591854",
   "metadata": {},
   "source": [
    "### insert multiple cols"
   ]
  },
  {
   "cell_type": "raw",
   "id": "4f71755f",
   "metadata": {},
   "source": [
    "INSERT INTO campusx.users VALUES\n",
    "(NULL, 'alla','alla@a.com',123),\n",
    "(NULL, 'aakbar','akbar@a.com',123),\n",
    "(NULL, 'anthony','anthony@a.com',123)"
   ]
  },
  {
   "cell_type": "markdown",
   "id": "7f856337",
   "metadata": {},
   "source": [
    "### Upload New data to workbench"
   ]
  },
  {
   "cell_type": "code",
   "execution_count": 3,
   "id": "00247090",
   "metadata": {},
   "outputs": [],
   "source": [
    "# to solve sql dbs connection issue\n",
    "# https://www.youtube.com/watch?v=nlefNPcb_Qg&ab_channel=NateBoorsma"
   ]
  },
  {
   "cell_type": "code",
   "execution_count": 4,
   "id": "f48c8960",
   "metadata": {},
   "outputs": [],
   "source": [
    "# Once connected, click on tables >> table data import wizard >> brows data file >> check dtypes asigned & import"
   ]
  },
  {
   "cell_type": "markdown",
   "id": "84c409f8",
   "metadata": {},
   "source": [
    "## 2. Retrieve - SELECT"
   ]
  },
  {
   "cell_type": "markdown",
   "id": "7f0fe195",
   "metadata": {},
   "source": [
    "### display all columns & rows (1)"
   ]
  },
  {
   "cell_type": "raw",
   "id": "5b01d39c",
   "metadata": {},
   "source": [
    "campusx is a dbs & smartphones & users is a table inside that dbs\n",
    "\n",
    "SELECT * FROM campusx.smartphones; WHERE 1\n",
    "\n",
    "SELECT * FROM campusx.smartphones\n",
    "\n",
    "SELECT * FROM campusx.users; WHERE 1\n",
    "\n",
    "SELECT * FROM campusx.users"
   ]
  },
  {
   "cell_type": "markdown",
   "id": "c6ad5e2e",
   "metadata": {},
   "source": [
    "### how to filter columns or display specific columns (model, price, rating)"
   ]
  },
  {
   "cell_type": "raw",
   "id": "0131b4eb",
   "metadata": {},
   "source": [
    "SELECT model,price,rating FROM campusx.smartphones"
   ]
  },
  {
   "cell_type": "raw",
   "id": "81f64751",
   "metadata": {},
   "source": [
    "SELECT model,battery_capacity,os FROM campusx.smartphones"
   ]
  },
  {
   "cell_type": "markdown",
   "id": "b6309681",
   "metadata": {},
   "source": [
    "### change column names"
   ]
  },
  {
   "cell_type": "raw",
   "id": "d0878c17",
   "metadata": {},
   "source": [
    "SELECT model,battery_capacity as 'mAH',os as 'operating system' FROM campusx.smartphones"
   ]
  },
  {
   "cell_type": "markdown",
   "id": "88cf4d1d",
   "metadata": {},
   "source": [
    "### create mathematical experssions using cols (calculate PPI using screensize, height, weidth)"
   ]
  },
  {
   "cell_type": "raw",
   "id": "cc501496",
   "metadata": {},
   "source": [
    "SELECT model, \n",
    "SQRT(resolution_width * resolution_width + resolution_height * resolution_height) / screen_size as PPI \n",
    "FROM campusx.smartphones"
   ]
  },
  {
   "cell_type": "markdown",
   "id": "27365354",
   "metadata": {},
   "source": [
    "### change rating from 100 scale to 10 scale"
   ]
  },
  {
   "cell_type": "raw",
   "id": "16dbcc63",
   "metadata": {},
   "source": [
    "SELECT model, \n",
    "rating/10 as 'rating'\n",
    "FROM campusx.smartphones"
   ]
  },
  {
   "cell_type": "markdown",
   "id": "50e214ed",
   "metadata": {},
   "source": [
    "### adding a new column & filling its value - constants"
   ]
  },
  {
   "cell_type": "raw",
   "id": "0ba35d8e",
   "metadata": {},
   "source": [
    "SELECT model,\n",
    "'smartphone' AS 'type'\n",
    "FROM campusx.smartphones"
   ]
  },
  {
   "cell_type": "markdown",
   "id": "f1829341",
   "metadata": {},
   "source": [
    "### distinct (unique) values from column"
   ]
  },
  {
   "cell_type": "raw",
   "id": "f3be7481",
   "metadata": {},
   "source": [
    "SELECT DISTINCT (processor_brand) from campusx.smartphones"
   ]
  },
  {
   "cell_type": "raw",
   "id": "1ec647f8",
   "metadata": {},
   "source": [
    "SELECT DISTINCT (processor_brand) AS 'All_Processor' from campusx.smartphones "
   ]
  },
  {
   "cell_type": "markdown",
   "id": "07faaa45",
   "metadata": {},
   "source": [
    "### distinct combos"
   ]
  },
  {
   "cell_type": "raw",
   "id": "184da217",
   "metadata": {},
   "source": [
    "SELECT DISTINCT os,brand_name AS 'Combo' \n",
    "from campusx.smartphones "
   ]
  },
  {
   "cell_type": "markdown",
   "id": "aa9cd3f7",
   "metadata": {},
   "source": [
    "### filtering rows based on where clause"
   ]
  },
  {
   "cell_type": "markdown",
   "id": "20f2b5cc",
   "metadata": {},
   "source": [
    "#### find all samsung phones"
   ]
  },
  {
   "cell_type": "raw",
   "id": "d8a88a3e",
   "metadata": {},
   "source": [
    "SELECT * FROM campusx.smartphones\n",
    "WHERE brand_name = 'apple'"
   ]
  },
  {
   "cell_type": "markdown",
   "id": "840d2a93",
   "metadata": {},
   "source": [
    "#### find all phones whose price > 50000"
   ]
  },
  {
   "cell_type": "raw",
   "id": "b3f4f397",
   "metadata": {},
   "source": [
    "SELECT * FROM campusx.smartphones\n",
    "WHERE price > 150000"
   ]
  },
  {
   "cell_type": "markdown",
   "id": "f90a6ceb",
   "metadata": {},
   "source": [
    "### between "
   ]
  },
  {
   "cell_type": "markdown",
   "id": "b56e1ce0",
   "metadata": {},
   "source": [
    "#### find all phones b/w price range of 10000 & 20000"
   ]
  },
  {
   "cell_type": "raw",
   "id": "4c9cf6d2",
   "metadata": {},
   "source": [
    "SELECT * FROM campusx.smartphones\n",
    "WHERE price > 150000 AND price < 200000"
   ]
  },
  {
   "cell_type": "raw",
   "id": "d0afd23b",
   "metadata": {},
   "source": [
    "-- SELECT * FROM campusx.smartphones\n",
    "-- WHERE price > 150000 AND price < 200000\n",
    "\n",
    "SELECT * FROM campusx.smartphones\n",
    "WHERE price BETWEEN 150000 AND 200000"
   ]
  },
  {
   "cell_type": "markdown",
   "id": "896641aa",
   "metadata": {},
   "source": [
    "#### find phones where rating > 80 & price < 25000"
   ]
  },
  {
   "cell_type": "raw",
   "id": "05cf993e",
   "metadata": {},
   "source": [
    "SELECT * FROM campusx.smartphones\n",
    "WHERE rating > 85 AND price < 20000"
   ]
  },
  {
   "cell_type": "raw",
   "id": "77e81e12",
   "metadata": {},
   "source": [
    "SELECT * FROM campusx.smartphones\n",
    "WHERE rating > 80 AND price < 15000 and processor_brand = 'snapdragon'"
   ]
  },
  {
   "cell_type": "markdown",
   "id": "83d075f1",
   "metadata": {},
   "source": [
    "#### find all samsung phones where ram > 8gb"
   ]
  },
  {
   "cell_type": "raw",
   "id": "4ccede56",
   "metadata": {},
   "source": [
    "SELECT * FROM campusx.smartphones\n",
    "WHERE brand_name = 'samsung' AND ram_capacity > 8"
   ]
  },
  {
   "cell_type": "markdown",
   "id": "cc1526d5",
   "metadata": {},
   "source": [
    "#### query execution order"
   ]
  },
  {
   "attachments": {
    "image.png": {
     "image/png": "[encoded data removed]"
    }
   },
   "cell_type": "markdown",
   "id": "27443971",
   "metadata": {},
   "source": [
    "![image.png](attachment:image.png)"
   ]
  },
  {
   "cell_type": "markdown",
   "id": "c1327962",
   "metadata": {},
   "source": [
    "#### find all brands whose price > 50000"
   ]
  },
  {
   "cell_type": "raw",
   "id": "a50f105f",
   "metadata": {},
   "source": [
    "SELECT DISTINCT(brand_name) FROM campusx.smartphones\n",
    "WHERE price > 150000 "
   ]
  },
  {
   "cell_type": "markdown",
   "id": "d35bbd45",
   "metadata": {},
   "source": [
    "### In & Not In"
   ]
  },
  {
   "cell_type": "raw",
   "id": "34cc3afd",
   "metadata": {},
   "source": [
    "SELECT * from campusx.smartphones\n",
    "WHERE processor_brand = 'snapdragon' OR processor_brand = 'exynos' OR processor_brand = 'bionic'"
   ]
  },
  {
   "cell_type": "markdown",
   "id": "3ae4ead1",
   "metadata": {},
   "source": [
    "#### Alternative"
   ]
  },
  {
   "cell_type": "raw",
   "id": "a378a54a",
   "metadata": {},
   "source": [
    "SELECT * from campusx.smartphones\n",
    "WHERE processor_brand IN ('snapdragon','exynos','bionic')"
   ]
  },
  {
   "cell_type": "raw",
   "id": "ad08227d",
   "metadata": {},
   "source": [
    "SELECT * from campusx.smartphones\n",
    "WHERE processor_brand NOT IN ('snapdragon','exynos','bionic')"
   ]
  },
  {
   "cell_type": "markdown",
   "id": "eb39d24c",
   "metadata": {},
   "source": [
    "## 3. Update\n",
    "\n",
    "To update 1 or multiple values on the basis of some condition"
   ]
  },
  {
   "cell_type": "raw",
   "id": "f4944a6a",
   "metadata": {},
   "source": [
    "UPDATE campusx.smartphones\n",
    "SET processor_brand = 'prashant_processor'\n",
    "WHERE processor_brand = 'unisoc'"
   ]
  },
  {
   "cell_type": "code",
   "execution_count": 7,
   "id": "617837c5",
   "metadata": {},
   "outputs": [],
   "source": [
    "#now check if it has been updated"
   ]
  },
  {
   "cell_type": "raw",
   "id": "b5a3a47c",
   "metadata": {},
   "source": [
    "SELECT * FROM campusx.smartphones\n",
    "WHERE processor_brand = 'prashant_processor'"
   ]
  },
  {
   "cell_type": "code",
   "execution_count": 8,
   "id": "7cd7b056",
   "metadata": {},
   "outputs": [],
   "source": [
    "#practice again"
   ]
  },
  {
   "cell_type": "raw",
   "id": "758a11b8",
   "metadata": {},
   "source": [
    "update campusx.users\n",
    "set pswd = 'wrong_password'\n",
    "where pswd = '4321'"
   ]
  },
  {
   "cell_type": "raw",
   "id": "e2024bd3",
   "metadata": {},
   "source": [
    "select * from campusx.users"
   ]
  },
  {
   "cell_type": "markdown",
   "id": "83dd27f9",
   "metadata": {},
   "source": [
    "## 4. Delete"
   ]
  },
  {
   "cell_type": "markdown",
   "id": "af492e7c",
   "metadata": {},
   "source": [
    "### delete all phones of price > 200000"
   ]
  },
  {
   "cell_type": "code",
   "execution_count": 9,
   "id": "f115c31d",
   "metadata": {},
   "outputs": [],
   "source": [
    "#check those phones"
   ]
  },
  {
   "cell_type": "raw",
   "id": "63b78868",
   "metadata": {},
   "source": [
    "select * from campusx.smartphones\n",
    "where price > 200000"
   ]
  },
  {
   "cell_type": "code",
   "execution_count": 10,
   "id": "53ee6e21",
   "metadata": {},
   "outputs": [],
   "source": [
    "#now delete"
   ]
  },
  {
   "cell_type": "raw",
   "id": "86a76688",
   "metadata": {},
   "source": [
    "delete from campusx.smartphones\n",
    "where price > 200000"
   ]
  },
  {
   "cell_type": "markdown",
   "id": "c8b79fa0",
   "metadata": {},
   "source": [
    "### delete all phones whose battery_capacity > 7000 & processor_speed > 2.5"
   ]
  },
  {
   "cell_type": "raw",
   "id": "460290bc",
   "metadata": {},
   "source": [
    "select * from campusx.smartphones\n",
    "where battery_capacity > 7000"
   ]
  },
  {
   "cell_type": "raw",
   "id": "5db0b508",
   "metadata": {},
   "source": [
    "delete from campusx.smartphones\n",
    "where battery_capacity > 7000 and processor_speed > 2.5"
   ]
  },
  {
   "cell_type": "markdown",
   "id": "7934223c",
   "metadata": {},
   "source": [
    "## Types of functions in SQL\n",
    "\n",
    "1. built-ins (scalar, aggregate)\n",
    "2. user defined"
   ]
  },
  {
   "cell_type": "markdown",
   "id": "c50975db",
   "metadata": {},
   "source": [
    "### 1. aggregate functions"
   ]
  },
  {
   "cell_type": "markdown",
   "id": "e2c8754b",
   "metadata": {},
   "source": [
    "#### max/min\n",
    "\n",
    "##### Find min & max price of a smartphone"
   ]
  },
  {
   "cell_type": "raw",
   "id": "ec9b7d6a",
   "metadata": {},
   "source": [
    "select max(price) from campusx.smartphones\n",
    "select min(price) from campusx.smartphones\n",
    "\n",
    "\n",
    "select min(ram_capacity) from campusx.smartphones\n",
    "select max(ram_capacity) from campusx.smartphones"
   ]
  },
  {
   "cell_type": "markdown",
   "id": "cbe98321",
   "metadata": {},
   "source": [
    "##### find price of costliest samsung phone"
   ]
  },
  {
   "cell_type": "raw",
   "id": "2a1f63fa",
   "metadata": {},
   "source": [
    "select max(price) from campusx.smartphones\n",
    "where brand_name = 'samsung'"
   ]
  },
  {
   "cell_type": "raw",
   "id": "e0a3d45c",
   "metadata": {},
   "source": [
    "-- select min(price) from campusx.smartphones\n",
    "-- where brand_name = 'samsung'\n",
    "\n",
    "select * from campusx.smartphones\n",
    "where brand_name = 'samsung' and price = '7249'"
   ]
  },
  {
   "cell_type": "markdown",
   "id": "4a2a76af",
   "metadata": {},
   "source": [
    "### avg\n",
    "\n",
    "##### find avg of rating of apple phones"
   ]
  },
  {
   "cell_type": "raw",
   "id": "dae2a514",
   "metadata": {},
   "source": [
    "select avg(rating) from campusx.smartphones\n",
    "where brand_name = 'apple'"
   ]
  },
  {
   "cell_type": "raw",
   "id": "67c056eb",
   "metadata": {},
   "source": [
    "#find avg price\n",
    "\n",
    "select avg(price) from campusx.smartphones\n",
    "where brand_name = 'oneplus'"
   ]
  },
  {
   "cell_type": "markdown",
   "id": "633c6277",
   "metadata": {},
   "source": [
    "### sum\n",
    "\n",
    "#### find sum of price of all phones"
   ]
  },
  {
   "cell_type": "raw",
   "id": "945cf6d1",
   "metadata": {},
   "source": [
    "select sum(price) from campusx.smartphones\n",
    "-- where brand_name = 'oneplus'"
   ]
  },
  {
   "cell_type": "markdown",
   "id": "9b803f95",
   "metadata": {},
   "source": [
    "### count\n",
    "\n",
    "#### find no of oneplus phones"
   ]
  },
  {
   "cell_type": "raw",
   "id": "cca22bfd",
   "metadata": {},
   "source": [
    "select count(*) from campusx.smartphones\n",
    "where brand_name = 'oneplus'"
   ]
  },
  {
   "cell_type": "markdown",
   "id": "8fc574a9",
   "metadata": {},
   "source": [
    "### count distinct\n",
    "\n",
    "#### find no of phones in our data"
   ]
  },
  {
   "cell_type": "raw",
   "id": "aab946a1",
   "metadata": {},
   "source": [
    "select count(distinct(brand_name)) from campusx.smartphones"
   ]
  },
  {
   "cell_type": "markdown",
   "id": "c7419eda",
   "metadata": {},
   "source": [
    "### Std\n",
    "\n",
    "#### find std of screen sizes"
   ]
  },
  {
   "cell_type": "raw",
   "id": "026a6dfe",
   "metadata": {},
   "source": [
    "select std(screen_size) from campusx.smartphones\n",
    "select variance(screen_size) from campusx.smartphones"
   ]
  },
  {
   "cell_type": "markdown",
   "id": "9e3fb1e2",
   "metadata": {},
   "source": [
    "### 2. scalar functions"
   ]
  },
  {
   "cell_type": "markdown",
   "id": "4bd34836",
   "metadata": {},
   "source": [
    "#### ABS (to convert all negative values to positive)"
   ]
  },
  {
   "cell_type": "raw",
   "id": "b37230b0",
   "metadata": {},
   "source": [
    "select abs(price - 100000) from campusx.smartphones"
   ]
  },
  {
   "cell_type": "markdown",
   "id": "b7c04411",
   "metadata": {},
   "source": [
    "#### ROUND"
   ]
  },
  {
   "cell_type": "raw",
   "id": "fbb1bf81",
   "metadata": {},
   "source": [
    "select round(price + 9.9999999) from campusx.smartphones"
   ]
  },
  {
   "cell_type": "markdown",
   "id": "c7f6e157",
   "metadata": {},
   "source": [
    "#### CEIL & FLOOR\n",
    "\n",
    "ceil: 4.1 to 5, 4.9 to 5\n",
    "floor: 4.1 to 4, 4.9 to 4"
   ]
  },
  {
   "cell_type": "raw",
   "id": "b4f8e7e9",
   "metadata": {},
   "source": [
    "select ceil(processor_speed) from campusx.smartphones\n",
    "select floor(processor_speed) from campusx.smartphones"
   ]
  },
  {
   "cell_type": "markdown",
   "id": "494d57a4",
   "metadata": {},
   "source": [
    "### Practice Questions"
   ]
  },
  {
   "cell_type": "markdown",
   "id": "d8bf63d7",
   "metadata": {},
   "source": [
    "#### find avg battery capacity & avg primary rear camera for all smartphones with price >= 100000"
   ]
  },
  {
   "cell_type": "raw",
   "id": "699d5eee",
   "metadata": {},
   "source": [
    "select avg(battery_capacity), avg(primary_camera_rear) from campusx.smartphones\n",
    "where price >= 100000"
   ]
  },
  {
   "cell_type": "markdown",
   "id": "772c84ac",
   "metadata": {},
   "source": [
    "#### find avg internal memory capacity of smartphones that have a refresh rate >= 120Hz & front facing camera resolution greater then or equal to 20mp"
   ]
  },
  {
   "cell_type": "raw",
   "id": "7c7cab57",
   "metadata": {},
   "source": [
    "select avg(internal_memory) from campusx.smartphones\n",
    "where refresh_rate >= 120 and primary_camera_front > 20"
   ]
  },
  {
   "cell_type": "markdown",
   "id": "3f58ca9c",
   "metadata": {},
   "source": [
    "#### find no of smartphones with 5g capacity"
   ]
  },
  {
   "cell_type": "raw",
   "id": "908bae81",
   "metadata": {},
   "source": [
    "select count(*) from campusx.smartphones\n",
    "where has_5g = 'True'"
   ]
  },
  {
   "cell_type": "code",
   "execution_count": null,
   "id": "d4ad7282",
   "metadata": {},
   "outputs": [],
   "source": []
  },
  {
   "cell_type": "code",
   "execution_count": null,
   "id": "ceebfd25",
   "metadata": {},
   "outputs": [],
   "source": []
  },
  {
   "cell_type": "code",
   "execution_count": null,
   "id": "352c0459",
   "metadata": {},
   "outputs": [],
   "source": []
  },
  {
   "cell_type": "code",
   "execution_count": null,
   "id": "c6b92dcc",
   "metadata": {},
   "outputs": [],
   "source": []
  },
  {
   "cell_type": "code",
   "execution_count": null,
   "id": "3717738f",
   "metadata": {},
   "outputs": [],
   "source": []
  },
  {
   "cell_type": "code",
   "execution_count": null,
   "id": "9bb02b70",
   "metadata": {},
   "outputs": [],
   "source": []
  }
 ],
 "metadata": {
  "kernelspec": {
   "display_name": "Python 3 (ipykernel)",
   "language": "python",
   "name": "python3"
  },
  "language_info": {
   "codemirror_mode": {
    "name": "ipython",
    "version": 3
   },
   "file_extension": ".py",
   "mimetype": "text/x-python",
   "name": "python",
   "nbconvert_exporter": "python",
   "pygments_lexer": "ipython3",
   "version": "3.10.7"
  }
 },
 "nbformat": 4,
 "nbformat_minor": 5
}
